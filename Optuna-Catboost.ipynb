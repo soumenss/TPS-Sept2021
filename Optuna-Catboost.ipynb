{
 "cells": [
  {
   "cell_type": "code",
   "execution_count": 1,
   "id": "6524ec32",
   "metadata": {},
   "outputs": [],
   "source": [
    "import numpy as np\n",
    "import pandas as pd\n",
    "\n",
    "from sklearn.preprocessing import StandardScaler\n",
    "from sklearn.pipeline import Pipeline\n",
    "from sklearn.impute import SimpleImputer\n",
    "\n",
    "import optuna\n",
    "from sklearn.model_selection import train_test_split\n",
    "from sklearn.metrics import roc_curve, auc\n",
    "from catboost import CatBoostClassifier"
   ]
  },
  {
   "cell_type": "code",
   "execution_count": 2,
   "id": "88b79fd8",
   "metadata": {},
   "outputs": [],
   "source": [
    "X = pd.read_csv('train.csv', index_col = 'id')\n",
    "# test_df = pd.read_csv('test.csv', index_col = 'id')"
   ]
  },
  {
   "cell_type": "code",
   "execution_count": 3,
   "id": "8be388e1",
   "metadata": {},
   "outputs": [],
   "source": [
    "feature_cols = [c for c in X.columns if c not in ('claim', 'fold')]\n",
    "pipeline = Pipeline([('impute', SimpleImputer(strategy='mean')), ('scale', StandardScaler())])\n",
    "\n",
    "y = X.claim\n",
    "X = X[feature_cols]\n",
    "X = pd.DataFrame(columns= feature_cols, data=pipeline.fit_transform(X))\n",
    "# xtest = pd.DataFrame(columns= feature_cols, data=pipeline.transform(xtest))"
   ]
  },
  {
   "cell_type": "code",
   "execution_count": 4,
   "id": "3836ee45",
   "metadata": {},
   "outputs": [],
   "source": [
    "# create trial function\n",
    "OPTUNA_OPTIMIZATION = True\n",
    "\n",
    "def objective(trial):\n",
    "    X_train, X_test, y_train, y_test = train_test_split(X, y, test_size=0.2, shuffle=True, random_state=1)\n",
    "    \n",
    "    params = {\n",
    "        'iterations':trial.suggest_int(\"iterations\", 1000, 20000),\n",
    "        'objective': trial.suggest_categorical('objective', ['Logloss', 'CrossEntropy']),\n",
    "        'bootstrap_type': trial.suggest_categorical('bootstrap_type', ['Bayesian', 'Bernoulli', 'MVS']),\n",
    "        'od_wait':trial.suggest_int('od_wait', 500, 2000),\n",
    "        'learning_rate' : trial.suggest_uniform('learning_rate',0.02,1),\n",
    "        'reg_lambda': trial.suggest_uniform('reg_lambda',1e-5,100),\n",
    "        'random_strength': trial.suggest_uniform('random_strength',10,50),\n",
    "        'depth': trial.suggest_int('depth',1,15),\n",
    "        'min_data_in_leaf': trial.suggest_int('min_data_in_leaf',1,30),\n",
    "        'leaf_estimation_iterations': trial.suggest_int('leaf_estimation_iterations',1,15),\n",
    "        'verbose': False,\n",
    "        'task_type' : 'GPU',\n",
    "        'devices' : '0'\n",
    "    }\n",
    "    \n",
    "    if params['bootstrap_type'] == 'Bayesian':\n",
    "        params['bagging_temperature'] = trial.suggest_float('bagging_temperature', 0, 10)\n",
    "    elif params['bootstrap_type'] == 'Bernoulli':\n",
    "        params['subsample'] = trial.suggest_float('subsample', 0.1, 1)\n",
    "    \n",
    "    model = CatBoostClassifier(**params)\n",
    "    model.fit(\n",
    "        X_train, y_train,\n",
    "        eval_set=[(X_test,y_test)],\n",
    "        early_stopping_rounds=100,\n",
    "        use_best_model=True\n",
    "    )\n",
    "    \n",
    "    # validation prediction\n",
    "    y_hat = model.predict_proba(X_test)[:,1]\n",
    "    fpr, tpr, _ = roc_curve(y_test, y_hat)\n",
    "    score = auc(fpr, tpr)\n",
    "    \n",
    "    return score"
   ]
  },
  {
   "cell_type": "code",
   "execution_count": null,
   "id": "09c5d4d0",
   "metadata": {},
   "outputs": [
    {
     "name": "stderr",
     "output_type": "stream",
     "text": [
      "\u001b[32m[I 2021-12-29 17:04:03,264]\u001b[0m A new study created in memory with name: CatbClf\u001b[0m\n",
      "\u001b[32m[I 2021-12-29 17:04:15,782]\u001b[0m Trial 0 finished with value: 0.5263278967217563 and parameters: {'iterations': 1701, 'objective': 'Logloss', 'bootstrap_type': 'Bayesian', 'od_wait': 1864, 'learning_rate': 0.4678946401545259, 'reg_lambda': 29.982880815593013, 'random_strength': 23.2854965835295, 'depth': 11, 'min_data_in_leaf': 27, 'leaf_estimation_iterations': 14, 'bagging_temperature': 9.713990390095578}. Best is trial 0 with value: 0.5263278967217563.\u001b[0m\n",
      "\u001b[32m[I 2021-12-29 17:04:54,847]\u001b[0m Trial 1 finished with value: 0.6094515282652326 and parameters: {'iterations': 9101, 'objective': 'CrossEntropy', 'bootstrap_type': 'MVS', 'od_wait': 1209, 'learning_rate': 0.26236758364063395, 'reg_lambda': 57.95832074784837, 'random_strength': 33.507633417531444, 'depth': 14, 'min_data_in_leaf': 18, 'leaf_estimation_iterations': 13}. Best is trial 1 with value: 0.6094515282652326.\u001b[0m\n",
      "\u001b[32m[I 2021-12-29 17:05:14,584]\u001b[0m Trial 2 finished with value: 0.7972418763910588 and parameters: {'iterations': 1338, 'objective': 'CrossEntropy', 'bootstrap_type': 'Bernoulli', 'od_wait': 724, 'learning_rate': 0.1329273293328647, 'reg_lambda': 4.454197980263472, 'random_strength': 48.92375831343961, 'depth': 4, 'min_data_in_leaf': 28, 'leaf_estimation_iterations': 11, 'subsample': 0.811508271034357}. Best is trial 2 with value: 0.7972418763910588.\u001b[0m\n",
      "\u001b[32m[I 2021-12-29 17:05:18,734]\u001b[0m Trial 3 finished with value: 0.5564799415718943 and parameters: {'iterations': 17333, 'objective': 'CrossEntropy', 'bootstrap_type': 'MVS', 'od_wait': 1505, 'learning_rate': 0.6145114265944884, 'reg_lambda': 29.522841783642278, 'random_strength': 38.97629666901487, 'depth': 2, 'min_data_in_leaf': 9, 'leaf_estimation_iterations': 11}. Best is trial 2 with value: 0.7972418763910588.\u001b[0m\n",
      "\u001b[32m[I 2021-12-29 17:06:27,986]\u001b[0m Trial 4 finished with value: 0.6556381423369082 and parameters: {'iterations': 7343, 'objective': 'CrossEntropy', 'bootstrap_type': 'Bayesian', 'od_wait': 1976, 'learning_rate': 0.6552335908301938, 'reg_lambda': 85.99440001610498, 'random_strength': 29.59451000931415, 'depth': 1, 'min_data_in_leaf': 4, 'leaf_estimation_iterations': 12, 'bagging_temperature': 6.221987529971356}. Best is trial 2 with value: 0.7972418763910588.\u001b[0m\n",
      "\u001b[32m[I 2021-12-29 17:06:41,214]\u001b[0m Trial 5 finished with value: 0.7744997022255937 and parameters: {'iterations': 15125, 'objective': 'Logloss', 'bootstrap_type': 'Bayesian', 'od_wait': 923, 'learning_rate': 0.731082284518232, 'reg_lambda': 13.67168761292797, 'random_strength': 20.197284346905757, 'depth': 12, 'min_data_in_leaf': 26, 'leaf_estimation_iterations': 2, 'bagging_temperature': 1.8422577395901973}. Best is trial 2 with value: 0.7972418763910588.\u001b[0m\n",
      "\u001b[32m[I 2021-12-29 17:07:10,108]\u001b[0m Trial 6 finished with value: 0.6452245477583489 and parameters: {'iterations': 7567, 'objective': 'CrossEntropy', 'bootstrap_type': 'Bayesian', 'od_wait': 670, 'learning_rate': 0.6071970517265683, 'reg_lambda': 79.01699717368275, 'random_strength': 42.051822371366626, 'depth': 6, 'min_data_in_leaf': 16, 'leaf_estimation_iterations': 3, 'bagging_temperature': 7.52861933564099}. Best is trial 2 with value: 0.7972418763910588.\u001b[0m\n",
      "\u001b[32m[I 2021-12-29 17:09:51,862]\u001b[0m Trial 7 finished with value: 0.7899711678757038 and parameters: {'iterations': 15830, 'objective': 'Logloss', 'bootstrap_type': 'Bernoulli', 'od_wait': 1345, 'learning_rate': 0.1664552796025521, 'reg_lambda': 46.43395467359087, 'random_strength': 28.536595183968487, 'depth': 1, 'min_data_in_leaf': 2, 'leaf_estimation_iterations': 14, 'subsample': 0.5073683343456633}. Best is trial 2 with value: 0.7972418763910588.\u001b[0m\n",
      "\u001b[32m[I 2021-12-29 17:10:59,802]\u001b[0m Trial 8 finished with value: 0.7935511906549082 and parameters: {'iterations': 10158, 'objective': 'CrossEntropy', 'bootstrap_type': 'Bernoulli', 'od_wait': 1161, 'learning_rate': 0.08021531100149763, 'reg_lambda': 32.9941190956214, 'random_strength': 19.2997648182458, 'depth': 11, 'min_data_in_leaf': 27, 'leaf_estimation_iterations': 4, 'subsample': 0.7209968446342765}. Best is trial 2 with value: 0.7972418763910588.\u001b[0m\n",
      "\u001b[32m[I 2021-12-29 17:11:06,116]\u001b[0m Trial 9 finished with value: 0.790074561591213 and parameters: {'iterations': 16489, 'objective': 'Logloss', 'bootstrap_type': 'Bayesian', 'od_wait': 590, 'learning_rate': 0.7784404458106665, 'reg_lambda': 20.49803949091099, 'random_strength': 17.812905711337443, 'depth': 8, 'min_data_in_leaf': 10, 'leaf_estimation_iterations': 6, 'bagging_temperature': 1.997984082242228}. Best is trial 2 with value: 0.7972418763910588.\u001b[0m\n",
      "\u001b[32m[I 2021-12-29 17:11:17,005]\u001b[0m Trial 10 finished with value: 0.7941422983460749 and parameters: {'iterations': 1159, 'objective': 'CrossEntropy', 'bootstrap_type': 'Bernoulli', 'od_wait': 835, 'learning_rate': 0.35866867507143924, 'reg_lambda': 3.048763127137458, 'random_strength': 48.55575014445199, 'depth': 5, 'min_data_in_leaf': 21, 'leaf_estimation_iterations': 9, 'subsample': 0.9638728034066185}. Best is trial 2 with value: 0.7972418763910588.\u001b[0m\n",
      "\u001b[32m[I 2021-12-29 17:11:28,192]\u001b[0m Trial 11 finished with value: 0.7940668520266164 and parameters: {'iterations': 1244, 'objective': 'CrossEntropy', 'bootstrap_type': 'Bernoulli', 'od_wait': 811, 'learning_rate': 0.3563762029216738, 'reg_lambda': 2.0874552662377965, 'random_strength': 48.204030635880756, 'depth': 5, 'min_data_in_leaf': 21, 'leaf_estimation_iterations': 9, 'subsample': 0.9415957543047572}. Best is trial 2 with value: 0.7972418763910588.\u001b[0m\n",
      "\u001b[32m[I 2021-12-29 17:12:23,757]\u001b[0m Trial 12 finished with value: 0.7978938887584122 and parameters: {'iterations': 4336, 'objective': 'CrossEntropy', 'bootstrap_type': 'Bernoulli', 'od_wait': 937, 'learning_rate': 0.03806011721618213, 'reg_lambda': 0.12318795265576865, 'random_strength': 49.12240473358939, 'depth': 4, 'min_data_in_leaf': 22, 'leaf_estimation_iterations': 9, 'subsample': 0.9951391875226854}. Best is trial 12 with value: 0.7978938887584122.\u001b[0m\n",
      "\u001b[32m[I 2021-12-29 17:13:03,705]\u001b[0m Trial 13 finished with value: 0.7975805002442286 and parameters: {'iterations': 4522, 'objective': 'CrossEntropy', 'bootstrap_type': 'Bernoulli', 'od_wait': 1019, 'learning_rate': 0.08024112340293588, 'reg_lambda': 1.5940228799272464, 'random_strength': 41.9181574867049, 'depth': 3, 'min_data_in_leaf': 30, 'leaf_estimation_iterations': 7, 'subsample': 0.11209188266940878}. Best is trial 12 with value: 0.7978938887584122.\u001b[0m\n",
      "\u001b[32m[I 2021-12-29 17:13:11,216]\u001b[0m Trial 14 finished with value: 0.7923170278170857 and parameters: {'iterations': 4785, 'objective': 'CrossEntropy', 'bootstrap_type': 'Bernoulli', 'od_wait': 1045, 'learning_rate': 0.9959726719267157, 'reg_lambda': 59.318854302485974, 'random_strength': 41.79460850340446, 'depth': 3, 'min_data_in_leaf': 23, 'leaf_estimation_iterations': 6, 'subsample': 0.10736370408686058}. Best is trial 12 with value: 0.7978938887584122.\u001b[0m\n",
      "\u001b[32m[I 2021-12-29 17:14:47,585]\u001b[0m Trial 15 finished with value: 0.7970998066014519 and parameters: {'iterations': 5466, 'objective': 'CrossEntropy', 'bootstrap_type': 'Bernoulli', 'od_wait': 1476, 'learning_rate': 0.04195942269469988, 'reg_lambda': 20.045682666135814, 'random_strength': 36.385835765074, 'depth': 7, 'min_data_in_leaf': 30, 'leaf_estimation_iterations': 7, 'subsample': 0.2534764275223651}. Best is trial 12 with value: 0.7978938887584122.\u001b[0m\n",
      "\u001b[32m[I 2021-12-29 17:15:13,108]\u001b[0m Trial 16 finished with value: 0.7961496709852594 and parameters: {'iterations': 12888, 'objective': 'CrossEntropy', 'bootstrap_type': 'Bernoulli', 'od_wait': 1021, 'learning_rate': 0.23626446975055457, 'reg_lambda': 97.14588378097514, 'random_strength': 45.11162462218094, 'depth': 3, 'min_data_in_leaf': 12, 'leaf_estimation_iterations': 9, 'subsample': 0.4610125416897135}. Best is trial 12 with value: 0.7978938887584122.\u001b[0m\n",
      "\u001b[32m[I 2021-12-29 17:15:41,328]\u001b[0m Trial 17 finished with value: 0.6630160138323272 and parameters: {'iterations': 19737, 'objective': 'CrossEntropy', 'bootstrap_type': 'MVS', 'od_wait': 518, 'learning_rate': 0.024371981952545314, 'reg_lambda': 13.32626837365072, 'random_strength': 42.093123159874196, 'depth': 9, 'min_data_in_leaf': 23, 'leaf_estimation_iterations': 5}. Best is trial 12 with value: 0.7978938887584122.\u001b[0m\n"
     ]
    },
    {
     "name": "stderr",
     "output_type": "stream",
     "text": [
      "\u001b[32m[I 2021-12-29 17:15:57,256]\u001b[0m Trial 18 finished with value: 0.796216300122328 and parameters: {'iterations': 3876, 'objective': 'Logloss', 'bootstrap_type': 'Bernoulli', 'od_wait': 1701, 'learning_rate': 0.23959104035201506, 'reg_lambda': 42.2923224674158, 'random_strength': 34.001712550700674, 'depth': 4, 'min_data_in_leaf': 30, 'leaf_estimation_iterations': 1, 'subsample': 0.34840371742934517}. Best is trial 12 with value: 0.7978938887584122.\u001b[0m\n",
      "\u001b[32m[I 2021-12-29 17:16:06,360]\u001b[0m Trial 19 finished with value: 0.7933828700578697 and parameters: {'iterations': 11815, 'objective': 'CrossEntropy', 'bootstrap_type': 'Bernoulli', 'od_wait': 1044, 'learning_rate': 0.3764604617890267, 'reg_lambda': 69.21657654254551, 'random_strength': 10.382386699462, 'depth': 7, 'min_data_in_leaf': 19, 'leaf_estimation_iterations': 8, 'subsample': 0.6848518384263221}. Best is trial 12 with value: 0.7978938887584122.\u001b[0m\n",
      "\u001b[32m[I 2021-12-29 17:16:15,328]\u001b[0m Trial 20 finished with value: 0.6485444412618248 and parameters: {'iterations': 3403, 'objective': 'CrossEntropy', 'bootstrap_type': 'MVS', 'od_wait': 1351, 'learning_rate': 0.16027455012527667, 'reg_lambda': 10.422070740408751, 'random_strength': 44.81096748964874, 'depth': 9, 'min_data_in_leaf': 24, 'leaf_estimation_iterations': 7}. Best is trial 12 with value: 0.7978938887584122.\u001b[0m\n",
      "\u001b[32m[I 2021-12-29 17:16:53,405]\u001b[0m Trial 21 finished with value: 0.7968627342789234 and parameters: {'iterations': 6545, 'objective': 'CrossEntropy', 'bootstrap_type': 'Bernoulli', 'od_wait': 725, 'learning_rate': 0.1273778824925357, 'reg_lambda': 1.06243374661091, 'random_strength': 49.99323954573259, 'depth': 4, 'min_data_in_leaf': 30, 'leaf_estimation_iterations': 11, 'subsample': 0.8171957616132234}. Best is trial 12 with value: 0.7978938887584122.\u001b[0m\n",
      "\u001b[32m[I 2021-12-29 17:17:29,241]\u001b[0m Trial 22 finished with value: 0.7904273407562916 and parameters: {'iterations': 2990, 'objective': 'CrossEntropy', 'bootstrap_type': 'Bernoulli', 'od_wait': 901, 'learning_rate': 0.023931183779336354, 'reg_lambda': 8.689656540974202, 'random_strength': 45.66724365661309, 'depth': 3, 'min_data_in_leaf': 26, 'leaf_estimation_iterations': 10, 'subsample': 0.8434894154315534}. Best is trial 12 with value: 0.7978938887584122.\u001b[0m\n",
      "\u001b[32m[I 2021-12-29 17:18:10,184]\u001b[0m Trial 23 finished with value: 0.7955006409434563 and parameters: {'iterations': 5513, 'objective': 'CrossEntropy', 'bootstrap_type': 'Bernoulli', 'od_wait': 697, 'learning_rate': 0.1301429328624092, 'reg_lambda': 22.146718011522694, 'random_strength': 46.861918480241954, 'depth': 5, 'min_data_in_leaf': 28, 'leaf_estimation_iterations': 11, 'subsample': 0.9940519784617873}. Best is trial 12 with value: 0.7978938887584122.\u001b[0m\n",
      "\u001b[32m[I 2021-12-29 17:18:44,032]\u001b[0m Trial 24 finished with value: 0.7956876963775172 and parameters: {'iterations': 3326, 'objective': 'CrossEntropy', 'bootstrap_type': 'Bernoulli', 'od_wait': 935, 'learning_rate': 0.2939551988333909, 'reg_lambda': 0.9173240356844516, 'random_strength': 38.79491624970926, 'depth': 2, 'min_data_in_leaf': 24, 'leaf_estimation_iterations': 15, 'subsample': 0.7504734997586023}. Best is trial 12 with value: 0.7978938887584122.\u001b[0m\n",
      "\u001b[32m[I 2021-12-29 17:19:09,074]\u001b[0m Trial 25 finished with value: 0.7947255019918019 and parameters: {'iterations': 8585, 'objective': 'CrossEntropy', 'bootstrap_type': 'Bernoulli', 'od_wait': 1149, 'learning_rate': 0.15804674644106592, 'reg_lambda': 9.638091323329752, 'random_strength': 43.67420052839708, 'depth': 6, 'min_data_in_leaf': 21, 'leaf_estimation_iterations': 8, 'subsample': 0.6339857968809854}. Best is trial 12 with value: 0.7978938887584122.\u001b[0m\n",
      "\u001b[32m[I 2021-12-29 17:19:18,341]\u001b[0m Trial 26 finished with value: 0.7948733632645161 and parameters: {'iterations': 2447, 'objective': 'CrossEntropy', 'bootstrap_type': 'Bernoulli', 'od_wait': 770, 'learning_rate': 0.49534710145550875, 'reg_lambda': 19.39381677336192, 'random_strength': 49.74279127027332, 'depth': 4, 'min_data_in_leaf': 15, 'leaf_estimation_iterations': 10, 'subsample': 0.8290444080057704}. Best is trial 12 with value: 0.7978938887584122.\u001b[0m\n",
      "\u001b[32m[I 2021-12-29 17:20:06,385]\u001b[0m Trial 27 finished with value: 0.7976521049369251 and parameters: {'iterations': 4266, 'objective': 'Logloss', 'bootstrap_type': 'Bernoulli', 'od_wait': 501, 'learning_rate': 0.08475366703964103, 'reg_lambda': 25.884816319971396, 'random_strength': 40.08390964620965, 'depth': 2, 'min_data_in_leaf': 28, 'leaf_estimation_iterations': 12, 'subsample': 0.5982420778570204}. Best is trial 12 with value: 0.7978938887584122.\u001b[0m\n",
      "\u001b[32m[I 2021-12-29 17:20:11,031]\u001b[0m Trial 28 finished with value: 0.5781001588388812 and parameters: {'iterations': 4643, 'objective': 'Logloss', 'bootstrap_type': 'MVS', 'od_wait': 550, 'learning_rate': 0.217658452428437, 'reg_lambda': 42.27646780992359, 'random_strength': 39.907317241091796, 'depth': 2, 'min_data_in_leaf': 25, 'leaf_estimation_iterations': 13}. Best is trial 12 with value: 0.7978938887584122.\u001b[0m\n",
      "\u001b[32m[I 2021-12-29 17:21:08,401]\u001b[0m Trial 29 finished with value: 0.7979410545323199 and parameters: {'iterations': 6268, 'objective': 'Logloss', 'bootstrap_type': 'Bernoulli', 'od_wait': 1336, 'learning_rate': 0.07232627192031436, 'reg_lambda': 31.845782292867643, 'random_strength': 25.328408673761906, 'depth': 2, 'min_data_in_leaf': 28, 'leaf_estimation_iterations': 7, 'subsample': 0.3696148871038931}. Best is trial 29 with value: 0.7979410545323199.\u001b[0m\n",
      "\u001b[32m[I 2021-12-29 17:22:11,679]\u001b[0m Trial 30 finished with value: 0.7898958129898177 and parameters: {'iterations': 6151, 'objective': 'Logloss', 'bootstrap_type': 'Bayesian', 'od_wait': 1665, 'learning_rate': 0.42450844001357674, 'reg_lambda': 31.95147558576079, 'random_strength': 25.054397120478388, 'depth': 1, 'min_data_in_leaf': 28, 'leaf_estimation_iterations': 15, 'bagging_temperature': 0.4756895273763213}. Best is trial 29 with value: 0.7979410545323199.\u001b[0m\n",
      "\u001b[32m[I 2021-12-29 17:23:05,556]\u001b[0m Trial 31 finished with value: 0.7973209427825086 and parameters: {'iterations': 7421, 'objective': 'Logloss', 'bootstrap_type': 'Bernoulli', 'od_wait': 1291, 'learning_rate': 0.08588931759418263, 'reg_lambda': 26.56963783174545, 'random_strength': 26.084605268020052, 'depth': 2, 'min_data_in_leaf': 30, 'leaf_estimation_iterations': 6, 'subsample': 0.1282398049851956}. Best is trial 29 with value: 0.7979410545323199.\u001b[0m\n",
      "\u001b[32m[I 2021-12-29 17:23:51,229]\u001b[0m Trial 32 finished with value: 0.7980476076646246 and parameters: {'iterations': 4428, 'objective': 'Logloss', 'bootstrap_type': 'Bernoulli', 'od_wait': 1496, 'learning_rate': 0.07681813386436463, 'reg_lambda': 37.779147561636066, 'random_strength': 34.20605460603325, 'depth': 3, 'min_data_in_leaf': 28, 'leaf_estimation_iterations': 7, 'subsample': 0.37969595515467397}. Best is trial 32 with value: 0.7980476076646246.\u001b[0m\n",
      "\u001b[32m[I 2021-12-29 17:24:56,164]\u001b[0m Trial 33 finished with value: 0.7914129695992522 and parameters: {'iterations': 9213, 'objective': 'Logloss', 'bootstrap_type': 'Bernoulli', 'od_wait': 1475, 'learning_rate': 0.3033119272177244, 'reg_lambda': 36.554187279859654, 'random_strength': 33.22151619943337, 'depth': 1, 'min_data_in_leaf': 27, 'leaf_estimation_iterations': 5, 'subsample': 0.38693562415533406}. Best is trial 32 with value: 0.7980476076646246.\u001b[0m\n"
     ]
    }
   ],
   "source": [
    "#create optuna study\n",
    "study = optuna.create_study(direction='maximize', study_name='CatbClf')\n",
    "study.optimize(objective, n_trials=200)"
   ]
  },
  {
   "cell_type": "code",
   "execution_count": null,
   "id": "df49451e",
   "metadata": {},
   "outputs": [],
   "source": [
    "print(f\"Best Trial: {study.best_trial.value}\")\n",
    "print(f\"Best Params: {study.best_trial.params}\")"
   ]
  }
 ],
 "metadata": {
  "kernelspec": {
   "display_name": "tf",
   "language": "python",
   "name": "tf"
  },
  "language_info": {
   "codemirror_mode": {
    "name": "ipython",
    "version": 3
   },
   "file_extension": ".py",
   "mimetype": "text/x-python",
   "name": "python",
   "nbconvert_exporter": "python",
   "pygments_lexer": "ipython3",
   "version": "3.9.6"
  }
 },
 "nbformat": 4,
 "nbformat_minor": 5
}
