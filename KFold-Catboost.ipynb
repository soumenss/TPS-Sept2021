{
 "cells": [
  {
   "cell_type": "code",
   "execution_count": 1,
   "id": "bf759829",
   "metadata": {},
   "outputs": [],
   "source": [
    "import numpy as np\n",
    "import pandas as pd\n",
    "\n",
    "from sklearn.preprocessing import StandardScaler\n",
    "from sklearn.pipeline import Pipeline\n",
    "from sklearn.impute import SimpleImputer\n",
    "\n",
    "from catboost import CatBoostClassifier\n",
    "\n",
    "from sklearn.model_selection import KFold\n",
    "from sklearn.metrics import roc_curve, auc"
   ]
  },
  {
   "cell_type": "code",
   "execution_count": 2,
   "id": "812a9127",
   "metadata": {},
   "outputs": [],
   "source": [
    "train_df = pd.read_csv('train.csv', index_col = 'id')\n",
    "test_df = pd.read_csv('test.csv', index_col = 'id')\n",
    "sample_sub = pd.read_csv('sample_solution.csv')"
   ]
  },
  {
   "cell_type": "code",
   "execution_count": 3,
   "id": "7cb4626b",
   "metadata": {},
   "outputs": [],
   "source": [
    "feature_cols = [c for c in train_df.columns if c not in ('claim', 'fold')]\n",
    "train_df['fold'] = -1\n",
    "fold_numbers = 10\n",
    "\n",
    "KF = KFold(n_splits = fold_numbers, shuffle = True, random_state = 42)\n",
    "for fold, (train_indices, valid_indices) in enumerate(KF.split(X = train_df)):\n",
    "    train_df.loc[valid_indices, 'fold'] = fold"
   ]
  },
  {
   "cell_type": "code",
   "execution_count": 4,
   "id": "1eba8cff",
   "metadata": {},
   "outputs": [],
   "source": [
    "pipeline = Pipeline([('impute', SimpleImputer(strategy='mean')), ('scale', StandardScaler())])"
   ]
  },
  {
   "cell_type": "code",
   "execution_count": 5,
   "id": "cf96f732",
   "metadata": {},
   "outputs": [],
   "source": [
    "params = {\n",
    "    'iterations': 15585, \n",
    "    'objective': 'CrossEntropy', \n",
    "    'bootstrap_type': 'Bernoulli', \n",
    "    'od_wait': 1144, \n",
    "    'learning_rate': 0.023575206684596582, \n",
    "    'reg_lambda': 36.30433203563295, \n",
    "    'random_strength': 43.75597655616195, \n",
    "    'depth': 7, \n",
    "    'min_data_in_leaf': 11, \n",
    "    'leaf_estimation_iterations': 1, \n",
    "    'subsample': 0.8227911142845009,\n",
    "    'task_type' : 'GPU',\n",
    "    'devices' : '0',\n",
    "    'verbose' : 0\n",
    "}\n",
    "\n",
    "params1= {'iterations': 10350,\n",
    "          'objective': 'CrossEntropy',\n",
    "          'bootstrap_type': 'Bernoulli', \n",
    "          'od_wait': 1490, \n",
    "          'learning_rate': 0.38975793913029355, \n",
    "          'reg_lambda': 71.45622917064668, \n",
    "          'random_strength': 28.12936814985794, \n",
    "          'depth': 1, \n",
    "          'min_data_in_leaf': 1, \n",
    "          'leaf_estimation_iterations': 5, \n",
    "          'subsample': 0.8172979703145598,\n",
    "          'task_type': 'GPU',\n",
    "          'devices': '0',\n",
    "          'verbose': 0\n",
    "         }"
   ]
  },
  {
   "cell_type": "code",
   "execution_count": null,
   "id": "e56f7ab1",
   "metadata": {},
   "outputs": [
    {
     "name": "stdout",
     "output_type": "stream",
     "text": [
      "Fold : 0 Score : 0.7925703935013715\n",
      "------------------------------------\n",
      "Fold : 1 Score : 0.7932096978617517\n",
      "------------------------------------\n"
     ]
    }
   ],
   "source": [
    "# Raw Data as input, Mean imputed\n",
    "test_preds = []\n",
    "for fold in range(fold_numbers):\n",
    "    xtrain = train_df.loc[train_df.fold != fold]\n",
    "    xval = train_df.loc[train_df.fold == fold]\n",
    "    \n",
    "    xtest = test_df.copy()\n",
    "    \n",
    "    ytrain = xtrain.claim\n",
    "    yval = xval.claim\n",
    "    \n",
    "    xtrain = xtrain[feature_cols]\n",
    "    xval = xval[feature_cols]\n",
    "    \n",
    "    xtrain = pd.DataFrame(columns= feature_cols, data=pipeline.fit_transform(xtrain))\n",
    "    xval = pd.DataFrame(columns= feature_cols, data=pipeline.transform(xval))\n",
    "    \n",
    "    xtest = pd.DataFrame(columns= feature_cols, data=pipeline.transform(xtest))\n",
    "    \n",
    "    model = CatBoostClassifier(**params1)\n",
    "    \n",
    "    model.fit(xtrain, ytrain)\n",
    "    predval = model.predict_proba(xval)[:,1]\n",
    "    \n",
    "    fpr, tpr, _ = roc_curve(yval, predval)\n",
    "    score = auc(fpr, tpr)\n",
    "    \n",
    "    print(\"Fold : {} Score : {}\".format(fold, score))\n",
    "    print('--'*18)\n",
    "    \n",
    "    test_pred = model.predict_proba(xtest)[:,1]\n",
    "    test_preds.append(test_pred)"
   ]
  },
  {
   "cell_type": "code",
   "execution_count": null,
   "id": "f0bdba1e",
   "metadata": {},
   "outputs": [],
   "source": [
    "sample_sub.claim = np.mean(np.column_stack(test_preds), axis = 1)\n",
    "sample_sub.to_csv('submission.csv', index = False)"
   ]
  },
  {
   "cell_type": "code",
   "execution_count": null,
   "id": "0c64e3a4",
   "metadata": {},
   "outputs": [],
   "source": []
  }
 ],
 "metadata": {
  "kernelspec": {
   "display_name": "tf",
   "language": "python",
   "name": "tf"
  },
  "language_info": {
   "codemirror_mode": {
    "name": "ipython",
    "version": 3
   },
   "file_extension": ".py",
   "mimetype": "text/x-python",
   "name": "python",
   "nbconvert_exporter": "python",
   "pygments_lexer": "ipython3",
   "version": "3.9.6"
  }
 },
 "nbformat": 4,
 "nbformat_minor": 5
}
