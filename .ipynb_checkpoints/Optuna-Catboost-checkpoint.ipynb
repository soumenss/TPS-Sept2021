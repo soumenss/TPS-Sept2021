{
 "cells": [
  {
   "cell_type": "code",
   "execution_count": 1,
   "id": "6524ec32",
   "metadata": {},
   "outputs": [],
   "source": [
    "import numpy as np\n",
    "import pandas as pd\n",
    "\n",
    "from sklearn.preprocessing import StandardScaler\n",
    "from sklearn.pipeline import Pipeline\n",
    "from sklearn.impute import SimpleImputer\n",
    "\n",
    "import optuna\n",
    "from sklearn.model_selection import train_test_split\n",
    "from sklearn.metrics import roc_curve, auc\n",
    "from catboost import CatBoostClassifier"
   ]
  },
  {
   "cell_type": "code",
   "execution_count": 2,
   "id": "88b79fd8",
   "metadata": {},
   "outputs": [],
   "source": [
    "X = pd.read_csv('train.csv', index_col = 'id')\n",
    "# test_df = pd.read_csv('test.csv', index_col = 'id')"
   ]
  },
  {
   "cell_type": "code",
   "execution_count": 3,
   "id": "8be388e1",
   "metadata": {},
   "outputs": [],
   "source": [
    "feature_cols = [c for c in X.columns if c not in ('claim', 'fold')]\n",
    "pipeline = Pipeline([('impute', SimpleImputer(strategy='mean')), ('scale', StandardScaler())])\n",
    "\n",
    "y = X.claim\n",
    "X = X[feature_cols]\n",
    "X = pd.DataFrame(columns= feature_cols, data=pipeline.fit_transform(X))\n",
    "# xtest = pd.DataFrame(columns= feature_cols, data=pipeline.transform(xtest))"
   ]
  },
  {
   "cell_type": "code",
   "execution_count": 4,
   "id": "3836ee45",
   "metadata": {},
   "outputs": [],
   "source": [
    "# create trial function\n",
    "OPTUNA_OPTIMIZATION = True\n",
    "\n",
    "def objective(trial):\n",
    "    X_train, X_test, y_train, y_test = train_test_split(X, y, test_size=0.2, shuffle=True, random_state=1)\n",
    "    \n",
    "    params = {\n",
    "        'iterations':trial.suggest_int(\"iterations\", 1000, 20000),\n",
    "        'objective': trial.suggest_categorical('objective', ['Logloss', 'CrossEntropy']),\n",
    "        'bootstrap_type': trial.suggest_categorical('bootstrap_type', ['Bayesian', 'Bernoulli', 'MVS']),\n",
    "        'od_wait':trial.suggest_int('od_wait', 500, 2000),\n",
    "        'learning_rate' : trial.suggest_uniform('learning_rate',0.02,1),\n",
    "        'reg_lambda': trial.suggest_uniform('reg_lambda',1e-5,100),\n",
    "        'random_strength': trial.suggest_uniform('random_strength',10,50),\n",
    "        'depth': trial.suggest_int('depth',1,15),\n",
    "        'min_data_in_leaf': trial.suggest_int('min_data_in_leaf',1,30),\n",
    "        'leaf_estimation_iterations': trial.suggest_int('leaf_estimation_iterations',1,15),\n",
    "        'verbose': False,\n",
    "        'task_type' : 'GPU',\n",
    "        'devices' : '0'\n",
    "    }\n",
    "    \n",
    "    if params['bootstrap_type'] == 'Bayesian':\n",
    "        params['bagging_temperature'] = trial.suggest_float('bagging_temperature', 0, 10)\n",
    "    elif params['bootstrap_type'] == 'Bernoulli':\n",
    "        params['subsample'] = trial.suggest_float('subsample', 0.1, 1)\n",
    "    \n",
    "    model = CatBoostClassifier(**params)\n",
    "    model.fit(\n",
    "        X_train, y_train,\n",
    "        eval_set=[(X_test,y_test)],\n",
    "        early_stopping_rounds=100,\n",
    "        use_best_model=True\n",
    "    )\n",
    "    \n",
    "    # validation prediction\n",
    "    y_hat = model.predict_proba(X_test)[:,1]\n",
    "    fpr, tpr, _ = roc_curve(y_test, y_hat)\n",
    "    score = auc(fpr, tpr)\n",
    "    \n",
    "    return score"
   ]
  },
  {
   "cell_type": "code",
   "execution_count": null,
   "id": "09c5d4d0",
   "metadata": {},
   "outputs": [
    {
     "name": "stderr",
     "output_type": "stream",
     "text": [
      "\u001b[32m[I 2021-12-29 17:04:03,264]\u001b[0m A new study created in memory with name: CatbClf\u001b[0m\n",
      "\u001b[32m[I 2021-12-29 17:04:15,782]\u001b[0m Trial 0 finished with value: 0.5263278967217563 and parameters: {'iterations': 1701, 'objective': 'Logloss', 'bootstrap_type': 'Bayesian', 'od_wait': 1864, 'learning_rate': 0.4678946401545259, 'reg_lambda': 29.982880815593013, 'random_strength': 23.2854965835295, 'depth': 11, 'min_data_in_leaf': 27, 'leaf_estimation_iterations': 14, 'bagging_temperature': 9.713990390095578}. Best is trial 0 with value: 0.5263278967217563.\u001b[0m\n",
      "\u001b[32m[I 2021-12-29 17:04:54,847]\u001b[0m Trial 1 finished with value: 0.6094515282652326 and parameters: {'iterations': 9101, 'objective': 'CrossEntropy', 'bootstrap_type': 'MVS', 'od_wait': 1209, 'learning_rate': 0.26236758364063395, 'reg_lambda': 57.95832074784837, 'random_strength': 33.507633417531444, 'depth': 14, 'min_data_in_leaf': 18, 'leaf_estimation_iterations': 13}. Best is trial 1 with value: 0.6094515282652326.\u001b[0m\n",
      "\u001b[32m[I 2021-12-29 17:05:14,584]\u001b[0m Trial 2 finished with value: 0.7972418763910588 and parameters: {'iterations': 1338, 'objective': 'CrossEntropy', 'bootstrap_type': 'Bernoulli', 'od_wait': 724, 'learning_rate': 0.1329273293328647, 'reg_lambda': 4.454197980263472, 'random_strength': 48.92375831343961, 'depth': 4, 'min_data_in_leaf': 28, 'leaf_estimation_iterations': 11, 'subsample': 0.811508271034357}. Best is trial 2 with value: 0.7972418763910588.\u001b[0m\n",
      "\u001b[32m[I 2021-12-29 17:05:18,734]\u001b[0m Trial 3 finished with value: 0.5564799415718943 and parameters: {'iterations': 17333, 'objective': 'CrossEntropy', 'bootstrap_type': 'MVS', 'od_wait': 1505, 'learning_rate': 0.6145114265944884, 'reg_lambda': 29.522841783642278, 'random_strength': 38.97629666901487, 'depth': 2, 'min_data_in_leaf': 9, 'leaf_estimation_iterations': 11}. Best is trial 2 with value: 0.7972418763910588.\u001b[0m\n"
     ]
    }
   ],
   "source": [
    "#create optuna study\n",
    "study = optuna.create_study(direction='maximize', study_name='CatbClf')\n",
    "study.optimize(objective, n_trials=200)"
   ]
  },
  {
   "cell_type": "code",
   "execution_count": null,
   "id": "df49451e",
   "metadata": {},
   "outputs": [],
   "source": [
    "print(f\"Best Trial: {study.best_trial.value}\")\n",
    "print(f\"Best Params: {study.best_trial.params}\")"
   ]
  }
 ],
 "metadata": {
  "kernelspec": {
   "display_name": "tf",
   "language": "python",
   "name": "tf"
  },
  "language_info": {
   "codemirror_mode": {
    "name": "ipython",
    "version": 3
   },
   "file_extension": ".py",
   "mimetype": "text/x-python",
   "name": "python",
   "nbconvert_exporter": "python",
   "pygments_lexer": "ipython3",
   "version": "3.9.6"
  }
 },
 "nbformat": 4,
 "nbformat_minor": 5
}
